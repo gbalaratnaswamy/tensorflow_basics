{
  "nbformat": 4,
  "nbformat_minor": 0,
  "metadata": {
    "colab": {
      "name": "naturalLanguage",
      "provenance": []
    },
    "kernelspec": {
      "name": "python3",
      "display_name": "Python 3"
    },
    "accelerator": "GPU"
  },
  "cells": [
    {
      "cell_type": "code",
      "metadata": {
        "id": "EwC1soqpdw4E",
        "colab_type": "code",
        "colab": {}
      },
      "source": [
        "import json\n",
        "import tensorflow as tf\n",
        "import numpy as np\n",
        "\n",
        "from tensorflow.keras.preprocessing.text import Tokenizer\n",
        "from tensorflow.keras.preprocessing.sequence import pad_sequences"
      ],
      "execution_count": 1,
      "outputs": []
    },
    {
      "cell_type": "code",
      "metadata": {
        "id": "CChmFU95eA1H",
        "colab_type": "code",
        "colab": {}
      },
      "source": [
        "vocab_size = 5000\n",
        "embedding_dim = 16\n",
        "max_length = 32\n",
        "trunc_type='post'\n",
        "padding_type='post'\n",
        "oov_tok = \"<OOV>\"\n",
        "training_size = 20000\n"
      ],
      "execution_count": 16,
      "outputs": []
    },
    {
      "cell_type": "code",
      "metadata": {
        "id": "1jZvc5clv1Ky",
        "colab_type": "code",
        "colab": {
          "base_uri": "https://localhost:8080/",
          "height": 202
        },
        "outputId": "314b6296-289e-49c0-850b-e235ba0cd357"
      },
      "source": [
        "!wget --no-check-certificate \\\n",
        "    https://storage.googleapis.com/laurencemoroney-blog.appspot.com/sarcasm.json \\\n",
        "    -O /tmp/sarcasm.json\n"
      ],
      "execution_count": 3,
      "outputs": [
        {
          "output_type": "stream",
          "text": [
            "--2020-08-04 09:13:42--  https://storage.googleapis.com/laurencemoroney-blog.appspot.com/sarcasm.json\n",
            "Resolving storage.googleapis.com (storage.googleapis.com)... 74.125.197.128, 74.125.142.128, 74.125.195.128, ...\n",
            "Connecting to storage.googleapis.com (storage.googleapis.com)|74.125.197.128|:443... connected.\n",
            "HTTP request sent, awaiting response... 200 OK\n",
            "Length: 5643545 (5.4M) [application/json]\n",
            "Saving to: ‘/tmp/sarcasm.json’\n",
            "\n",
            "\r/tmp/sarcasm.json     0%[                    ]       0  --.-KB/s               \r/tmp/sarcasm.json   100%[===================>]   5.38M  --.-KB/s    in 0.02s   \n",
            "\n",
            "2020-08-04 09:13:43 (223 MB/s) - ‘/tmp/sarcasm.json’ saved [5643545/5643545]\n",
            "\n"
          ],
          "name": "stdout"
        }
      ]
    },
    {
      "cell_type": "code",
      "metadata": {
        "id": "1DDLoLYFv3Kz",
        "colab_type": "code",
        "colab": {}
      },
      "source": [
        "with open(\"/tmp/sarcasm.json\", 'r') as f:\n",
        "    datastore = json.load(f)\n",
        "\n",
        "sentences = []\n",
        "labels = []\n",
        "\n",
        "for item in datastore:\n",
        "    sentences.append(item['headline'])\n",
        "    labels.append(item['is_sarcastic'])"
      ],
      "execution_count": 4,
      "outputs": []
    },
    {
      "cell_type": "code",
      "metadata": {
        "id": "X6q0pfa8v5dY",
        "colab_type": "code",
        "colab": {}
      },
      "source": [
        "training_sentences = sentences[0:training_size]\n",
        "testing_sentences = sentences[training_size:]\n",
        "training_labels = labels[0:training_size]\n",
        "testing_labels = labels[training_size:]"
      ],
      "execution_count": 5,
      "outputs": []
    },
    {
      "cell_type": "code",
      "metadata": {
        "id": "elnxVUIEv88s",
        "colab_type": "code",
        "colab": {}
      },
      "source": [
        "tokenizer = Tokenizer(num_words=vocab_size, oov_token=oov_tok)\n",
        "tokenizer.fit_on_texts(training_sentences)\n",
        "\n",
        "word_index = tokenizer.word_index\n",
        "\n",
        "training_sequences = tokenizer.texts_to_sequences(training_sentences)\n",
        "training_padded = pad_sequences(training_sequences, maxlen=max_length, padding=padding_type, truncating=trunc_type)\n",
        "\n",
        "testing_sequences = tokenizer.texts_to_sequences(testing_sentences)\n",
        "testing_padded = pad_sequences(testing_sequences, maxlen=max_length, padding=padding_type, truncating=trunc_type)"
      ],
      "execution_count": 17,
      "outputs": []
    },
    {
      "cell_type": "code",
      "metadata": {
        "id": "tnfCPaOcv-5e",
        "colab_type": "code",
        "colab": {}
      },
      "source": [
        "training_padded = np.array(training_padded)\n",
        "training_labels = np.array(training_labels)\n",
        "testing_padded = np.array(testing_padded)\n",
        "testing_labels = np.array(testing_labels)"
      ],
      "execution_count": 18,
      "outputs": []
    },
    {
      "cell_type": "code",
      "metadata": {
        "id": "uIO2S75ix-ob",
        "colab_type": "code",
        "colab": {}
      },
      "source": [
        "learnshdfn = tf.keras.optimizers.schedules.ExponentialDecay(0.001,70,0.96,True)"
      ],
      "execution_count": 47,
      "outputs": []
    },
    {
      "cell_type": "code",
      "metadata": {
        "id": "tr2Vo04iwERQ",
        "colab_type": "code",
        "colab": {}
      },
      "source": [
        "model = tf.keras.Sequential([\n",
        "    tf.keras.layers.Embedding(vocab_size, embedding_dim, input_length=max_length),\n",
        "    tf.keras.layers.GlobalAveragePooling1D(),\n",
        "    tf.keras.layers.Dense(16, activation='relu'),\n",
        "    tf.keras.layers.Dropout(0.1),\n",
        "    tf.keras.layers.Dense(1, activation='sigmoid')\n",
        "])\n",
        "model.compile(loss='binary_crossentropy',optimizer=tf.keras.optimizers.Adam(learning_rate=learnshdfn),metrics=['accuracy'])"
      ],
      "execution_count": 48,
      "outputs": []
    },
    {
      "cell_type": "code",
      "metadata": {
        "id": "ao_2urB4wGq5",
        "colab_type": "code",
        "colab": {
          "base_uri": "https://localhost:8080/",
          "height": 319
        },
        "outputId": "e652b4e4-4463-4301-e67f-0818e86ff33c"
      },
      "source": [
        "model.summary()"
      ],
      "execution_count": 49,
      "outputs": [
        {
          "output_type": "stream",
          "text": [
            "Model: \"sequential_11\"\n",
            "_________________________________________________________________\n",
            "Layer (type)                 Output Shape              Param #   \n",
            "=================================================================\n",
            "embedding_11 (Embedding)     (None, 32, 16)            80000     \n",
            "_________________________________________________________________\n",
            "global_average_pooling1d_11  (None, 16)                0         \n",
            "_________________________________________________________________\n",
            "dense_22 (Dense)             (None, 16)                272       \n",
            "_________________________________________________________________\n",
            "dropout_10 (Dropout)         (None, 16)                0         \n",
            "_________________________________________________________________\n",
            "dense_23 (Dense)             (None, 1)                 17        \n",
            "=================================================================\n",
            "Total params: 80,289\n",
            "Trainable params: 80,289\n",
            "Non-trainable params: 0\n",
            "_________________________________________________________________\n"
          ],
          "name": "stdout"
        }
      ]
    },
    {
      "cell_type": "code",
      "metadata": {
        "id": "LtpTqkjdwIil",
        "colab_type": "code",
        "colab": {
          "base_uri": "https://localhost:8080/",
          "height": 1000
        },
        "outputId": "fdd9a236-d5c2-49f2-a008-569a4159dd5c"
      },
      "source": [
        "num_epochs = 30\n",
        "history = model.fit(training_padded, training_labels, epochs=num_epochs, validation_data=(testing_padded, testing_labels), verbose=2)"
      ],
      "execution_count": 50,
      "outputs": [
        {
          "output_type": "stream",
          "text": [
            "Epoch 1/30\n",
            "625/625 - 2s - loss: 0.5855 - accuracy: 0.6969 - val_loss: 0.4408 - val_accuracy: 0.8201\n",
            "Epoch 2/30\n",
            "625/625 - 2s - loss: 0.3692 - accuracy: 0.8480 - val_loss: 0.3700 - val_accuracy: 0.8471\n",
            "Epoch 3/30\n",
            "625/625 - 2s - loss: 0.3124 - accuracy: 0.8737 - val_loss: 0.3580 - val_accuracy: 0.8423\n",
            "Epoch 4/30\n",
            "625/625 - 2s - loss: 0.2855 - accuracy: 0.8834 - val_loss: 0.3514 - val_accuracy: 0.8490\n",
            "Epoch 5/30\n",
            "625/625 - 2s - loss: 0.2700 - accuracy: 0.8902 - val_loss: 0.3502 - val_accuracy: 0.8504\n",
            "Epoch 6/30\n",
            "625/625 - 2s - loss: 0.2610 - accuracy: 0.8945 - val_loss: 0.3499 - val_accuracy: 0.8501\n",
            "Epoch 7/30\n",
            "625/625 - 2s - loss: 0.2544 - accuracy: 0.8967 - val_loss: 0.3503 - val_accuracy: 0.8496\n",
            "Epoch 8/30\n",
            "625/625 - 2s - loss: 0.2500 - accuracy: 0.8990 - val_loss: 0.3503 - val_accuracy: 0.8499\n",
            "Epoch 9/30\n",
            "625/625 - 2s - loss: 0.2477 - accuracy: 0.9011 - val_loss: 0.3505 - val_accuracy: 0.8489\n",
            "Epoch 10/30\n",
            "625/625 - 2s - loss: 0.2448 - accuracy: 0.9018 - val_loss: 0.3507 - val_accuracy: 0.8489\n",
            "Epoch 11/30\n",
            "625/625 - 2s - loss: 0.2433 - accuracy: 0.9042 - val_loss: 0.3509 - val_accuracy: 0.8490\n",
            "Epoch 12/30\n",
            "625/625 - 2s - loss: 0.2454 - accuracy: 0.9014 - val_loss: 0.3510 - val_accuracy: 0.8490\n",
            "Epoch 13/30\n",
            "625/625 - 2s - loss: 0.2443 - accuracy: 0.9021 - val_loss: 0.3511 - val_accuracy: 0.8486\n",
            "Epoch 14/30\n",
            "625/625 - 2s - loss: 0.2429 - accuracy: 0.9035 - val_loss: 0.3511 - val_accuracy: 0.8486\n",
            "Epoch 15/30\n",
            "625/625 - 2s - loss: 0.2435 - accuracy: 0.9039 - val_loss: 0.3512 - val_accuracy: 0.8487\n",
            "Epoch 16/30\n",
            "625/625 - 2s - loss: 0.2427 - accuracy: 0.9038 - val_loss: 0.3512 - val_accuracy: 0.8487\n",
            "Epoch 17/30\n",
            "625/625 - 2s - loss: 0.2415 - accuracy: 0.9038 - val_loss: 0.3512 - val_accuracy: 0.8487\n",
            "Epoch 18/30\n",
            "625/625 - 2s - loss: 0.2420 - accuracy: 0.9044 - val_loss: 0.3512 - val_accuracy: 0.8487\n",
            "Epoch 19/30\n",
            "625/625 - 2s - loss: 0.2415 - accuracy: 0.9054 - val_loss: 0.3512 - val_accuracy: 0.8487\n",
            "Epoch 20/30\n",
            "625/625 - 2s - loss: 0.2422 - accuracy: 0.9062 - val_loss: 0.3512 - val_accuracy: 0.8487\n",
            "Epoch 21/30\n",
            "625/625 - 2s - loss: 0.2419 - accuracy: 0.9036 - val_loss: 0.3512 - val_accuracy: 0.8487\n",
            "Epoch 22/30\n",
            "625/625 - 2s - loss: 0.2421 - accuracy: 0.9025 - val_loss: 0.3512 - val_accuracy: 0.8487\n",
            "Epoch 23/30\n",
            "625/625 - 2s - loss: 0.2418 - accuracy: 0.9042 - val_loss: 0.3512 - val_accuracy: 0.8487\n",
            "Epoch 24/30\n",
            "625/625 - 2s - loss: 0.2420 - accuracy: 0.9036 - val_loss: 0.3512 - val_accuracy: 0.8487\n",
            "Epoch 25/30\n",
            "625/625 - 2s - loss: 0.2421 - accuracy: 0.9035 - val_loss: 0.3513 - val_accuracy: 0.8487\n",
            "Epoch 26/30\n",
            "625/625 - 2s - loss: 0.2416 - accuracy: 0.9042 - val_loss: 0.3513 - val_accuracy: 0.8487\n",
            "Epoch 27/30\n",
            "625/625 - 2s - loss: 0.2407 - accuracy: 0.9043 - val_loss: 0.3513 - val_accuracy: 0.8487\n",
            "Epoch 28/30\n",
            "625/625 - 2s - loss: 0.2423 - accuracy: 0.9026 - val_loss: 0.3513 - val_accuracy: 0.8487\n",
            "Epoch 29/30\n",
            "625/625 - 2s - loss: 0.2416 - accuracy: 0.9032 - val_loss: 0.3513 - val_accuracy: 0.8487\n",
            "Epoch 30/30\n",
            "625/625 - 2s - loss: 0.2419 - accuracy: 0.9039 - val_loss: 0.3513 - val_accuracy: 0.8487\n"
          ],
          "name": "stdout"
        }
      ]
    },
    {
      "cell_type": "code",
      "metadata": {
        "id": "n12orrHFwKq0",
        "colab_type": "code",
        "colab": {
          "base_uri": "https://localhost:8080/",
          "height": 544
        },
        "outputId": "ed53f065-d89e-4cc4-ee43-18fc87f9dc1f"
      },
      "source": [
        "import matplotlib.pyplot as plt\n",
        "\n",
        "\n",
        "def plot_graphs(history, string):\n",
        "  plt.plot(history.history[string])\n",
        "  plt.plot(history.history['val_'+string])\n",
        "  plt.xlabel(\"Epochs\")\n",
        "  plt.ylabel(string)\n",
        "  plt.legend([string, 'val_'+string])\n",
        "  plt.show()\n",
        "  \n",
        "plot_graphs(history, \"accuracy\")\n",
        "plot_graphs(history, \"loss\")"
      ],
      "execution_count": 51,
      "outputs": [
        {
          "output_type": "display_data",
          "data": {
            "image/png": "[encoded data removed]",
            "text/plain": [
              "<Figure size 432x288 with 1 Axes>"
            ]
          },
          "metadata": {
            "tags": [],
            "needs_background": "light"
          }
        },
        {
          "output_type": "display_data",
          "data": {
            "image/png": "[encoded data removed]",
            "text/plain": [
              "<Figure size 432x288 with 1 Axes>"
            ]
          },
          "metadata": {
            "tags": [],
            "needs_background": "light"
          }
        }
      ]
    },
    {
      "cell_type": "code",
      "metadata": {
        "id": "6VM0w2y1wU7-",
        "colab_type": "code",
        "colab": {}
      },
      "source": [
        "reverse_word_index = dict([(value, key) for (key, value) in word_index.items()])\n",
        "\n",
        "def decode_sentence(text):\n",
        "    return ' '.join([reverse_word_index.get(i, '?') for i in text])\n",
        "\n",
        "print(decode_sentence(training_padded[0]))\n",
        "print(training_sentences[2])\n",
        "print(labels[2])"
      ],
      "execution_count": null,
      "outputs": []
    },
    {
      "cell_type": "code",
      "metadata": {
        "id": "Hem6YtwkwXTg",
        "colab_type": "code",
        "colab": {}
      },
      "source": [
        "e = model.layers[0]\n",
        "weights = e.get_weights()[0]\n",
        "print(weights.shape) # shape: (vocab_size, embedding_dim)\n"
      ],
      "execution_count": null,
      "outputs": []
    },
    {
      "cell_type": "code",
      "metadata": {
        "id": "2g7dZEp0waQr",
        "colab_type": "code",
        "colab": {}
      },
      "source": [
        "import io\n",
        "\n",
        "out_v = io.open('vecs.tsv', 'w', encoding='utf-8')\n",
        "out_m = io.open('meta.tsv', 'w', encoding='utf-8')\n",
        "for word_num in range(1, vocab_size):\n",
        "  word = reverse_word_index[word_num]\n",
        "  embeddings = weights[word_num]\n",
        "  out_m.write(word + \"\\n\")\n",
        "  out_v.write('\\t'.join([str(x) for x in embeddings]) + \"\\n\")\n",
        "out_v.close()\n",
        "out_m.close()"
      ],
      "execution_count": null,
      "outputs": []
    },
    {
      "cell_type": "code",
      "metadata": {
        "id": "yObJGfwywdG5",
        "colab_type": "code",
        "colab": {}
      },
      "source": [
        "try:\n",
        "  from google.colab import files\n",
        "except ImportError:\n",
        "  pass\n",
        "else:\n",
        "  files.download('vecs.tsv')\n",
        "  files.download('meta.tsv')"
      ],
      "execution_count": null,
      "outputs": []
    },
    {
      "cell_type": "code",
      "metadata": {
        "id": "OnMwZAtAwfqg",
        "colab_type": "code",
        "colab": {
          "base_uri": "https://localhost:8080/",
          "height": 50
        },
        "outputId": "8b0f937a-92a1-4004-ab88-f6533eade201"
      },
      "source": [
        "sentence = [\"granny starting to fear spiders in the garden might be real\", \"game of thrones season finale showing this sunday night\"]\n",
        "sequences = tokenizer.texts_to_sequences(sentence)\n",
        "padded = pad_sequences(sequences, maxlen=max_length, padding=padding_type, truncating=trunc_type)\n",
        "print(model.predict(padded))"
      ],
      "execution_count": 52,
      "outputs": [
        {
          "output_type": "stream",
          "text": [
            "[[0.45239577]\n",
            " [0.21509159]]\n"
          ],
          "name": "stdout"
        }
      ]
    },
    {
      "cell_type": "code",
      "metadata": {
        "id": "ujyP1a_20W1U",
        "colab_type": "code",
        "colab": {}
      },
      "source": [
        ""
      ],
      "execution_count": null,
      "outputs": []
    }
  ]
}